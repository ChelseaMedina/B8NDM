{
 "cells": [
  {
   "cell_type": "markdown",
   "id": "60ba7b47-fb6b-4353-a798-5746d060ff84",
   "metadata": {},
   "source": [
    "# Project 7-- [Chelsea] [Medina]"
   ]
  },
  {
   "cell_type": "markdown",
   "id": "94fd4d82-ec14-47e7-a3c2-5c824ac7d2bc",
   "metadata": {},
   "source": [
    "**TA Help:** Dr.Ward\n",
    "\n",
    "- Help with figuring out how to write a function.\n",
    "    \n",
    "**Collaboration:**\n",
    "    \n",
    "- N/A"
   ]
  },
  {
   "cell_type": "code",
   "execution_count": 1,
   "id": "98250ecf-5781-4229-bbf1-53cc49f46034",
   "metadata": {},
   "outputs": [],
   "source": [
    "library(data.table)\n",
    "\n",
    "titles <- data.frame(fread(\"/anvil/projects/tdm/data/movies_and_tv/titles.csv\"))\n",
    "people <- data.frame(fread(\"/anvil/projects/tdm/data/movies_and_tv/people.csv\"))\n",
    "ratings <- data.frame(fread(\"/anvil/projects/tdm/data/movies_and_tv/ratings.csv\"))"
   ]
  },
  {
   "cell_type": "code",
   "execution_count": 2,
   "id": "1776eff7-2afa-4c3e-8d22-ce42b78c50d8",
   "metadata": {},
   "outputs": [],
   "source": [
    "options(jupyter.rich_display = F)"
   ]
  },
  {
   "cell_type": "code",
   "execution_count": 3,
   "id": "ed8a3e2c-c436-4c07-bcd0-92ddae06193e",
   "metadata": {},
   "outputs": [],
   "source": [
    "options(repr.matrix.max.cols = 50, repr.matrix.max.rows = 200)"
   ]
  },
  {
   "cell_type": "markdown",
   "id": "b2f5fcaf-b0b3-4325-9f31-f834056eea6d",
   "metadata": {},
   "source": [
    "# Question 1"
   ]
  },
  {
   "cell_type": "code",
   "execution_count": 4,
   "id": "340fda83-7f15-4b53-83fa-8bf3b876fd0b",
   "metadata": {},
   "outputs": [
    {
     "data": {
      "text/plain": [
       " [1] \"Documentary\" \"Short\"       \"Animation\"   \"Comedy\"      \"Romance\"    \n",
       " [6] \"Sport\"       \"News\"        \"Drama\"       \"Fantasy\"     \"Horror\"     \n",
       "[11] \"Biography\"   \"Music\"       \"War\"         \"Crime\"       \"Western\"    \n",
       "[16] \"Family\"      \"Adventure\"   \"Action\"      \"History\"     \"Mystery\"    \n",
       "[21] \"\\\\N\"         \"Sci-Fi\"      \"Musical\"     \"Thriller\"    \"Film-Noir\"  \n",
       "[26] \"Talk-Show\"   \"Game-Show\"   \"Reality-TV\"  \"Adult\"      "
      ]
     },
     "metadata": {},
     "output_type": "display_data"
    }
   ],
   "source": [
    "unique(unlist(strsplit(unique(titles$genres), \",\")))"
   ]
  },
  {
   "cell_type": "markdown",
   "id": "7afeb8ba-965e-4d20-a166-99bb04b7c594",
   "metadata": {},
   "source": [
    "Looking at all the different listed genres (in the titles table)."
   ]
  },
  {
   "cell_type": "code",
   "execution_count": 5,
   "id": "a8e4b3e5-ea4b-4407-b45d-2469acf8af5b",
   "metadata": {},
   "outputs": [
    {
     "data": {
      "text/plain": [
       "\n",
       " 2016  2017  2015  2018  2014  2013  2019  2012  2020  2011  2010  2009  2008 \n",
       "84227 83916 80199 78393 77034 71963 70457 65305 61237 57892 48825 43095 39734 \n",
       " 2007  2006  2005  2021  2004  2003  2002  2001  1998  1999  2000  1997  1996 \n",
       "37103 34078 28952 28693 26087 23804 21090 19903 18826 18500 18195 17180 15480 \n",
       " 1995  1994  1993  1991  1992  1989  1990  1987  1988  1986  1973  1982  1975 \n",
       "14673 12423 11570 11346 10933  9180  8903  8151  7597  6858  6748  6533  6245 \n",
       " 1980  1974  1983  1985  1976  1972  1984  1977  1971  1969  1970  1981  1979 \n",
       " 6173  6156  6115  6070  6043  6035  6017  5936  5752  5572  5543  5521  5408 \n",
       " 1978  1967  1965  1968  1966  1964  1963  1962  1961  1960  1955  1959  1958 \n",
       " 5402  5111  4963  4895  4777  4356  4337  3957  3953  3680  3321  3204  3196 \n",
       " 1956  1957  1914  1913  1954  1915  1912  1953  1916  1911  1952  1951  1917 \n",
       " 3083  3074  3043  3005  2959  2745  2639  2412  2238  1961  1883  1882  1709 \n",
       " 1910  1950  1909  1920  1918  1919  1908  1949  1927  1921  1926  1925  1928 \n",
       " 1622  1510  1360  1325  1232  1102  1090  1051  1036   997   993   943   917 \n",
       " 1922  1938  1929  1937  1936  1931  1930  1924  1934  1933  1923  1935  2022 \n",
       "  912   883   876   871   852   845   808   801   797   773   766   766   753 \n",
       " 1932  1907  1939  1948  1941  1940  1947  1942  1946  1943  1944  1903  1945 \n",
       "  739   736   716   714   691   663   653   635   566   561   466   429   420 \n",
       " 1906  1905  1904  1900  1902  1899  1898  1901  1897  1896  2023  2024  1895 \n",
       "  407   366   344   239   229   201   192   165   112    42    39    11     8 \n",
       " 1894  2026  1892  1893  2025 \n",
       "    5     3     1     1     1 "
      ]
     },
     "metadata": {},
     "output_type": "display_data"
    }
   ],
   "source": [
    "sort(table(titles[grepl(\"Comedy\", titles$genres), ]$premiered), decreasing = TRUE)"
   ]
  },
  {
   "cell_type": "markdown",
   "id": "06e4c8a1-d5f2-49ea-9c45-4828a7be4086",
   "metadata": {},
   "source": [
    "Looking at the years column and the genres column to find the years with most comedies."
   ]
  },
  {
   "cell_type": "markdown",
   "id": "9dc1760a-ae12-4251-b185-94a66ddce577",
   "metadata": {},
   "source": [
    "# Question 2"
   ]
  },
  {
   "cell_type": "code",
   "execution_count": 6,
   "id": "5c33fe02-aa2e-4922-8a20-82ae14e4ceda",
   "metadata": {},
   "outputs": [],
   "source": [
    "episodes <- data.frame(fread(\"/anvil/projects/tdm/data/movies_and_tv/episodes.csv\"))"
   ]
  },
  {
   "cell_type": "code",
   "execution_count": 7,
   "id": "d2fd936f-ecbd-4612-8161-5b063ec3ab38",
   "metadata": {},
   "outputs": [],
   "source": [
    "resultDF <- merge(episodes,titles, by.x = \"episode_title_id\" , by.y = \"title_id\")"
   ]
  },
  {
   "cell_type": "code",
   "execution_count": 8,
   "id": "07dfe9e6-3810-455d-aec1-be55eadad487",
   "metadata": {},
   "outputs": [
    {
     "data": {
      "text/plain": [
       "  episode_title_id show_title_id season_number episode_number type     \n",
       "1 tt0041951        tt0041038      1            9              tvEpisode\n",
       "2 tt0042816        tt0989125      1            17             tvEpisode\n",
       "3 tt0042889        tt0989125     NA            \\\\N            tvEpisode\n",
       "4 tt0043426        tt0040051      3            42             tvEpisode\n",
       "5 tt0043631        tt0989125      2            16             tvEpisode\n",
       "6 tt0043693        tt0989125      2            8              tvEpisode\n",
       "  primary_title                     original_title                    is_adult\n",
       "1 The Tenderfeet                    The Tenderfeet                    0       \n",
       "2 Othello                           Othello                           0       \n",
       "3 The Tragedy of King Richard II/II The Tragedy of King Richard II/II 0       \n",
       "4 Coriolanus                        Coriolanus                        0       \n",
       "5 The Life of King Henry V          The Life of King Henry V          0       \n",
       "6 Julius Caesar                     Julius Caesar                     0       \n",
       "  premiered ended runtime_minutes genres \n",
       "1 1949      NA     30             Western\n",
       "2 1950      NA    135             Drama  \n",
       "3 1950      NA    145             Drama  \n",
       "4 1951      NA     60             Drama  \n",
       "5 1951      NA    133             Drama  \n",
       "6 1951      NA     NA             Drama  "
      ]
     },
     "metadata": {},
     "output_type": "display_data"
    }
   ],
   "source": [
    "head(resultDF)"
   ]
  },
  {
   "cell_type": "code",
   "execution_count": 9,
   "id": "1a02627e-d7b9-4216-921f-ce11e1241d0b",
   "metadata": {},
   "outputs": [
    {
     "data": {
      "text/plain": [
       "[1] 235  12"
      ]
     },
     "metadata": {},
     "output_type": "display_data"
    }
   ],
   "source": [
    "dim(resultDF[resultDF$show_title_id == \"tt0108778\", ])"
   ]
  },
  {
   "cell_type": "markdown",
   "id": "f33a7d62-e0e4-49e2-a6e1-50d4ae7202f1",
   "metadata": {},
   "source": [
    "# Question 3"
   ]
  },
  {
   "cell_type": "code",
   "execution_count": 10,
   "id": "c186a420-51b6-409f-ba63-b53eda01234a",
   "metadata": {},
   "outputs": [],
   "source": [
    "tempDF <- resultDF[resultDF$show_title_id == \"tt0108778\", ]"
   ]
  },
  {
   "cell_type": "code",
   "execution_count": 11,
   "id": "a2063e27-3b9c-44a9-ba28-15ea006269b1",
   "metadata": {},
   "outputs": [
    {
     "data": {
      "text/plain": [
       "      episode_title_id show_title_id season_number episode_number type     \n",
       "93207 tt0583431        tt0108778      7            8              tvEpisode\n",
       "93208 tt0583432        tt0108778     10            9              tvEpisode\n",
       "93209 tt0583433        tt0108778     10            17             tvEpisode\n",
       "93210 tt0583435        tt0108778      8            1              tvEpisode\n",
       "93211 tt0583436        tt0108778     10            1              tvEpisode\n",
       "93212 tt0583437        tt0108778      5            1              tvEpisode\n",
       "      primary_title                           \n",
       "93207 The One Where Chandler Doesn't Like Dogs\n",
       "93208 The One with the Birth Mother           \n",
       "93209 The Last One                            \n",
       "93210 The One After I Do                      \n",
       "93211 The One After Joey and Rachel Kiss      \n",
       "93212 The One After Ross Says Rachel          \n",
       "      original_title                           is_adult premiered ended\n",
       "93207 The One Where Chandler Doesn't Like Dogs 0        2000      NA   \n",
       "93208 The One with the Birth Mother            0        2004      NA   \n",
       "93209 The Last One                             0        2004      NA   \n",
       "93210 The One After I Do                       0        2001      NA   \n",
       "93211 The One After Joey and Rachel Kiss       0        2003      NA   \n",
       "93212 The One After Ross Says Rachel           0        1998      NA   \n",
       "      runtime_minutes genres        \n",
       "93207 22              Comedy,Romance\n",
       "93208 22              Comedy,Romance\n",
       "93209 30              Comedy,Romance\n",
       "93210 22              Comedy,Romance\n",
       "93211 22              Comedy,Romance\n",
       "93212 22              Comedy,Romance"
      ]
     },
     "metadata": {},
     "output_type": "display_data"
    }
   ],
   "source": [
    "head(tempDF)"
   ]
  },
  {
   "cell_type": "markdown",
   "id": "6b1ff091-4ac8-4386-93ce-eb416ae2cde5",
   "metadata": {},
   "source": [
    "# Question 4\n"
   ]
  },
  {
   "cell_type": "code",
   "execution_count": null,
   "id": "0fbc671e-bd47-4be5-bef5-2dfb7f377db0",
   "metadata": {},
   "outputs": [],
   "source": []
  }
 ],
 "metadata": {
  "kernelspec": {
   "display_name": "f2022-s2023-r",
   "language": "R",
   "name": "f2022-s2023-r"
  },
  "language_info": {
   "codemirror_mode": "r",
   "file_extension": ".r",
   "mimetype": "text/x-r-source",
   "name": "R",
   "pygments_lexer": "r",
   "version": "4.2.1"
  }
 },
 "nbformat": 4,
 "nbformat_minor": 5
}
